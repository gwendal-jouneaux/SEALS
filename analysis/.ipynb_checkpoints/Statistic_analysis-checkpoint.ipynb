{
 "cells": [
  {
   "cell_type": "markdown",
   "metadata": {},
   "source": [
    "# Self-Adaptable MiniJava for image processing\n",
    "\n",
    "This notebook aim at providing the analysis process of the Self-Adaptable implementation of MiniJava performances for image processing with an Approximate Loop Unrolling adaptation. This implementation is compared to a reference implementation based on the interpreter design pattern.\n",
    "\n",
    "## Imports"
   ]
  },
  {
   "cell_type": "code",
   "execution_count": 1,
   "metadata": {
    "colab": {},
    "colab_type": "code",
    "id": "nwy_vm8H-vPy"
   },
   "outputs": [],
   "source": [
    "from os import listdir\n",
    "from os.path import isfile, join\n",
    "import math\n",
    "import pandas as pd\n",
    "import json\n",
    "import numpy as np\n",
    "import seaborn as sns\n",
    "import matplotlib.pyplot as plt\n",
    "import scipy.stats as st"
   ]
  },
  {
   "cell_type": "markdown",
   "metadata": {},
   "source": [
    "## Data\n",
    "\n",
    "Build the datastructure containing the results of JMH benchmarks. All the benchmarks were executed on Debian 9 with the **Krun** kernel, 15Go of RAM, an Intel(R) Xeon(R) W-2104 CPU (Quad Core - 3.20GHz), and run on the GraalVM CE JVM version 20.2.0."
   ]
  },
  {
   "cell_type": "code",
   "execution_count": 2,
   "metadata": {
    "colab": {
     "base_uri": "https://localhost:8080/",
     "height": 394
    },
    "colab_type": "code",
    "id": "r2tJpDD7-vP_",
    "outputId": "2e1f3d9a-53fb-4f2c-c20a-07d2a7fea350"
   },
   "outputs": [
    {
     "data": {
      "text/html": [
       "<div>\n",
       "<style scoped>\n",
       "    .dataframe tbody tr th:only-of-type {\n",
       "        vertical-align: middle;\n",
       "    }\n",
       "\n",
       "    .dataframe tbody tr th {\n",
       "        vertical-align: top;\n",
       "    }\n",
       "\n",
       "    .dataframe thead th {\n",
       "        text-align: right;\n",
       "    }\n",
       "</style>\n",
       "<table border=\"1\" class=\"dataframe\">\n",
       "  <thead>\n",
       "    <tr style=\"text-align: right;\">\n",
       "      <th></th>\n",
       "      <th>vm</th>\n",
       "      <th>stress</th>\n",
       "      <th>try</th>\n",
       "      <th>time</th>\n",
       "      <th>idx</th>\n",
       "    </tr>\n",
       "  </thead>\n",
       "  <tbody>\n",
       "    <tr>\n",
       "      <th>count</th>\n",
       "      <td>900</td>\n",
       "      <td>900.000000</td>\n",
       "      <td>900</td>\n",
       "      <td>900.000000</td>\n",
       "      <td>900.000000</td>\n",
       "    </tr>\n",
       "    <tr>\n",
       "      <th>unique</th>\n",
       "      <td>2</td>\n",
       "      <td>NaN</td>\n",
       "      <td>3</td>\n",
       "      <td>NaN</td>\n",
       "      <td>NaN</td>\n",
       "    </tr>\n",
       "    <tr>\n",
       "      <th>top</th>\n",
       "      <td>reference</td>\n",
       "      <td>NaN</td>\n",
       "      <td>tryI</td>\n",
       "      <td>NaN</td>\n",
       "      <td>NaN</td>\n",
       "    </tr>\n",
       "    <tr>\n",
       "      <th>freq</th>\n",
       "      <td>450</td>\n",
       "      <td>NaN</td>\n",
       "      <td>300</td>\n",
       "      <td>NaN</td>\n",
       "      <td>NaN</td>\n",
       "    </tr>\n",
       "    <tr>\n",
       "      <th>mean</th>\n",
       "      <td>NaN</td>\n",
       "      <td>50.000000</td>\n",
       "      <td>NaN</td>\n",
       "      <td>13.373716</td>\n",
       "      <td>14.500000</td>\n",
       "    </tr>\n",
       "    <tr>\n",
       "      <th>std</th>\n",
       "      <td>NaN</td>\n",
       "      <td>35.374997</td>\n",
       "      <td>NaN</td>\n",
       "      <td>4.602772</td>\n",
       "      <td>8.660254</td>\n",
       "    </tr>\n",
       "    <tr>\n",
       "      <th>min</th>\n",
       "      <td>NaN</td>\n",
       "      <td>0.000000</td>\n",
       "      <td>NaN</td>\n",
       "      <td>8.198310</td>\n",
       "      <td>0.000000</td>\n",
       "    </tr>\n",
       "    <tr>\n",
       "      <th>25%</th>\n",
       "      <td>NaN</td>\n",
       "      <td>25.000000</td>\n",
       "      <td>NaN</td>\n",
       "      <td>10.880730</td>\n",
       "      <td>7.000000</td>\n",
       "    </tr>\n",
       "    <tr>\n",
       "      <th>50%</th>\n",
       "      <td>NaN</td>\n",
       "      <td>50.000000</td>\n",
       "      <td>NaN</td>\n",
       "      <td>12.630456</td>\n",
       "      <td>14.500000</td>\n",
       "    </tr>\n",
       "    <tr>\n",
       "      <th>75%</th>\n",
       "      <td>NaN</td>\n",
       "      <td>75.000000</td>\n",
       "      <td>NaN</td>\n",
       "      <td>13.175090</td>\n",
       "      <td>22.000000</td>\n",
       "    </tr>\n",
       "    <tr>\n",
       "      <th>max</th>\n",
       "      <td>NaN</td>\n",
       "      <td>100.000000</td>\n",
       "      <td>NaN</td>\n",
       "      <td>25.830481</td>\n",
       "      <td>29.000000</td>\n",
       "    </tr>\n",
       "  </tbody>\n",
       "</table>\n",
       "</div>"
      ],
      "text/plain": [
       "               vm      stress   try        time         idx\n",
       "count         900  900.000000   900  900.000000  900.000000\n",
       "unique          2         NaN     3         NaN         NaN\n",
       "top     reference         NaN  tryI         NaN         NaN\n",
       "freq          450         NaN   300         NaN         NaN\n",
       "mean          NaN   50.000000   NaN   13.373716   14.500000\n",
       "std           NaN   35.374997   NaN    4.602772    8.660254\n",
       "min           NaN    0.000000   NaN    8.198310    0.000000\n",
       "25%           NaN   25.000000   NaN   10.880730    7.000000\n",
       "50%           NaN   50.000000   NaN   12.630456   14.500000\n",
       "75%           NaN   75.000000   NaN   13.175090   22.000000\n",
       "max           NaN  100.000000   NaN   25.830481   29.000000"
      ]
     },
     "execution_count": 2,
     "metadata": {},
     "output_type": "execute_result"
    }
   ],
   "source": [
    "root_dir = './analysis/data/'\n",
    "\n",
    "results=[]\n",
    "for f in listdir(root_dir):\n",
    "    path = join(root_dir, f)\n",
    "    if isfile(path):\n",
    "        fo = open(path)\n",
    "        jso = json.loads(fo.read())\n",
    "        splt = f.split('_')\n",
    "        lang = splt[0]\n",
    "        typ = splt[1]\n",
    "        measureNb = splt[2]\n",
    "        for (idx, time) in enumerate(jso[0]['primaryMetric']['rawData'][0]):\n",
    "                results.append({\n",
    "                        'vm': vm,\n",
    "                        'stress': int(stress),\n",
    "                        'try': measureNb,\n",
    "                        'time': time,\n",
    "                        'idx': idx\n",
    "                })\n",
    "\n",
    "df = pd.DataFrame(results)\n",
    "df.describe(include='all')"
   ]
  },
  {
   "cell_type": "markdown",
   "metadata": {},
   "source": [
    "## Statistic analysis\n",
    "\n",
    "### Basic metrics\n",
    "\n",
    "#### Variance"
   ]
  },
  {
   "cell_type": "code",
   "execution_count": 3,
   "metadata": {
    "colab": {},
    "colab_type": "code",
    "id": "5Mqsy2g_PPxb"
   },
   "outputs": [],
   "source": [
    "variances = pd.DataFrame(df.groupby([\"vm\", \"stress\"]).time.var())\n",
    "variances[\"vm\"] = \"\"\n",
    "variances[\"Stress\"] = \"\"\n",
    "variances.vm = variances.index.get_level_values(0)\n",
    "variances.Stress = variances.index.get_level_values(1)\n",
    "variances.index = range(10)\n",
    "variances.rename(columns={\"time\":\"Variances\"}, inplace=True)"
   ]
  },
  {
   "cell_type": "markdown",
   "metadata": {},
   "source": [
    "#### Standard deviation"
   ]
  },
  {
   "cell_type": "code",
   "execution_count": 4,
   "metadata": {
    "colab": {},
    "colab_type": "code",
    "id": "EfRviD6sUI-k"
   },
   "outputs": [],
   "source": [
    "deviations = pd.DataFrame(df.groupby([\"vm\", \"stress\"]).time.std())\n",
    "deviations[\"vm\"] = \"\"\n",
    "deviations[\"Stress\"] = \"\"\n",
    "deviations.vm = deviations.index.get_level_values(0)\n",
    "deviations.Stress = deviations.index.get_level_values(1)\n",
    "deviations.index = range(10)\n",
    "deviations.rename(columns={\"time\":\"Deviation\"}, inplace=True)"
   ]
  },
  {
   "cell_type": "markdown",
   "metadata": {},
   "source": [
    "#### Average time"
   ]
  },
  {
   "cell_type": "code",
   "execution_count": 5,
   "metadata": {
    "colab": {},
    "colab_type": "code",
    "id": "eC3JsOS426Xp"
   },
   "outputs": [],
   "source": [
    "means = pd.DataFrame(df.groupby([\"vm\", \"stress\"]).time.mean())\n",
    "means[\"vm\"] = \"\"\n",
    "means[\"Stress\"] = \"\"\n",
    "means.vm = means.index.get_level_values(0)\n",
    "means.Stress = means.index.get_level_values(1)\n",
    "means.index = range(10)\n",
    "means.rename(columns={\"time\":\"Mean\"}, inplace=True)"
   ]
  },
  {
   "cell_type": "markdown",
   "metadata": {},
   "source": [
    "#### Median value"
   ]
  },
  {
   "cell_type": "code",
   "execution_count": 6,
   "metadata": {
    "colab": {},
    "colab_type": "code",
    "id": "q4UioLiH26cG"
   },
   "outputs": [],
   "source": [
    "medians = pd.DataFrame(df.groupby([\"vm\", \"stress\"]).time.median())\n",
    "medians[\"vm\"] = \"\"\n",
    "medians[\"Stress\"] = \"\"\n",
    "medians.vm = medians.index.get_level_values(0)\n",
    "medians.Stress = medians.index.get_level_values(1)\n",
    "medians.index = range(10)\n",
    "medians.rename(columns={\"time\":\"Median\"}, inplace=True)"
   ]
  },
  {
   "cell_type": "markdown",
   "metadata": {},
   "source": [
    "#### Concatenate all metrics"
   ]
  },
  {
   "cell_type": "code",
   "execution_count": 7,
   "metadata": {
    "colab": {
     "base_uri": "https://localhost:8080/",
     "height": 1000
    },
    "colab_type": "code",
    "id": "VoZepTwc5zak",
    "outputId": "aca17f81-faaf-476e-f026-b0c642040af1"
   },
   "outputs": [
    {
     "data": {
      "text/html": [
       "<div>\n",
       "<style scoped>\n",
       "    .dataframe tbody tr th:only-of-type {\n",
       "        vertical-align: middle;\n",
       "    }\n",
       "\n",
       "    .dataframe tbody tr th {\n",
       "        vertical-align: top;\n",
       "    }\n",
       "\n",
       "    .dataframe thead th {\n",
       "        text-align: right;\n",
       "    }\n",
       "</style>\n",
       "<table border=\"1\" class=\"dataframe\">\n",
       "  <thead>\n",
       "    <tr style=\"text-align: right;\">\n",
       "      <th></th>\n",
       "      <th>vm</th>\n",
       "      <th>Stress</th>\n",
       "      <th>Mean</th>\n",
       "      <th>Median</th>\n",
       "      <th>Deviation</th>\n",
       "      <th>Variance</th>\n",
       "    </tr>\n",
       "  </thead>\n",
       "  <tbody>\n",
       "    <tr>\n",
       "      <th>0</th>\n",
       "      <td>adaptive</td>\n",
       "      <td>0</td>\n",
       "      <td>25.574801</td>\n",
       "      <td>25.538089</td>\n",
       "      <td>0.163591</td>\n",
       "      <td>0.026762</td>\n",
       "    </tr>\n",
       "    <tr>\n",
       "      <th>1</th>\n",
       "      <td>reference</td>\n",
       "      <td>0</td>\n",
       "      <td>12.605884</td>\n",
       "      <td>12.599488</td>\n",
       "      <td>0.060774</td>\n",
       "      <td>0.003693</td>\n",
       "    </tr>\n",
       "    <tr>\n",
       "      <th>2</th>\n",
       "      <td>adaptive</td>\n",
       "      <td>25</td>\n",
       "      <td>16.297958</td>\n",
       "      <td>16.300900</td>\n",
       "      <td>0.040881</td>\n",
       "      <td>0.001671</td>\n",
       "    </tr>\n",
       "    <tr>\n",
       "      <th>3</th>\n",
       "      <td>reference</td>\n",
       "      <td>25</td>\n",
       "      <td>12.598613</td>\n",
       "      <td>12.594642</td>\n",
       "      <td>0.033373</td>\n",
       "      <td>0.001114</td>\n",
       "    </tr>\n",
       "    <tr>\n",
       "      <th>4</th>\n",
       "      <td>adaptive</td>\n",
       "      <td>50</td>\n",
       "      <td>10.883349</td>\n",
       "      <td>10.880684</td>\n",
       "      <td>0.035120</td>\n",
       "      <td>0.001233</td>\n",
       "    </tr>\n",
       "    <tr>\n",
       "      <th>5</th>\n",
       "      <td>reference</td>\n",
       "      <td>50</td>\n",
       "      <td>12.667502</td>\n",
       "      <td>12.667936</td>\n",
       "      <td>0.032941</td>\n",
       "      <td>0.001085</td>\n",
       "    </tr>\n",
       "    <tr>\n",
       "      <th>6</th>\n",
       "      <td>adaptive</td>\n",
       "      <td>75</td>\n",
       "      <td>8.454307</td>\n",
       "      <td>8.292755</td>\n",
       "      <td>0.343647</td>\n",
       "      <td>0.118093</td>\n",
       "    </tr>\n",
       "    <tr>\n",
       "      <th>7</th>\n",
       "      <td>reference</td>\n",
       "      <td>75</td>\n",
       "      <td>12.674002</td>\n",
       "      <td>12.673094</td>\n",
       "      <td>0.053748</td>\n",
       "      <td>0.002889</td>\n",
       "    </tr>\n",
       "    <tr>\n",
       "      <th>8</th>\n",
       "      <td>adaptive</td>\n",
       "      <td>100</td>\n",
       "      <td>8.758603</td>\n",
       "      <td>8.687938</td>\n",
       "      <td>0.318147</td>\n",
       "      <td>0.101217</td>\n",
       "    </tr>\n",
       "    <tr>\n",
       "      <th>9</th>\n",
       "      <td>reference</td>\n",
       "      <td>100</td>\n",
       "      <td>13.222144</td>\n",
       "      <td>13.176022</td>\n",
       "      <td>0.210273</td>\n",
       "      <td>0.044215</td>\n",
       "    </tr>\n",
       "  </tbody>\n",
       "</table>\n",
       "</div>"
      ],
      "text/plain": [
       "          vm  Stress       Mean     Median  Deviation  Variance\n",
       "0   adaptive       0  25.574801  25.538089   0.163591  0.026762\n",
       "1  reference       0  12.605884  12.599488   0.060774  0.003693\n",
       "2   adaptive      25  16.297958  16.300900   0.040881  0.001671\n",
       "3  reference      25  12.598613  12.594642   0.033373  0.001114\n",
       "4   adaptive      50  10.883349  10.880684   0.035120  0.001233\n",
       "5  reference      50  12.667502  12.667936   0.032941  0.001085\n",
       "6   adaptive      75   8.454307   8.292755   0.343647  0.118093\n",
       "7  reference      75  12.674002  12.673094   0.053748  0.002889\n",
       "8   adaptive     100   8.758603   8.687938   0.318147  0.101217\n",
       "9  reference     100  13.222144  13.176022   0.210273  0.044215"
      ]
     },
     "execution_count": 7,
     "metadata": {},
     "output_type": "execute_result"
    }
   ],
   "source": [
    "stats = pd.concat([variances, means, medians, deviations], axis=1)\n",
    "stats[\"Variance\"] = 0\n",
    "stats.Variance = stats.Variances\n",
    "del stats[\"Variances\"]\n",
    "stats = stats.loc[:,~stats.columns.duplicated()]\n",
    "stats = stats.sort_values(['Stress', 'vm'])\n",
    "stats.index = range(10)\n",
    "stats"
   ]
  },
  {
   "cell_type": "markdown",
   "metadata": {},
   "source": [
    "### Functions\n",
    "\n",
    "compute_stats : print estimation of the mean and confidence interval of the data"
   ]
  },
  {
   "cell_type": "code",
   "execution_count": 8,
   "metadata": {
    "colab": {
     "base_uri": "https://localhost:8080/",
     "height": 677
    },
    "colab_type": "code",
    "id": "TWsi7ugDZLWc",
    "outputId": "a2e45651-84f9-442f-aea4-da306d770895"
   },
   "outputs": [],
   "source": [
    "def compute_stats(values):\n",
    "    mean = np.mean(values)\n",
    "    lo, hi = st.t.interval(0.95, df=(len(values) - 1), loc=mean, scale=st.sem(values))\n",
    "    print(\"Estimated mean : \" + str(mean))\n",
    "    print(\"Confidence interval : [\" + str(lo) + \", \" + str(hi) + \"] delta = \" + str(mean - lo))\n",
    "\n"
   ]
  },
  {
   "cell_type": "markdown",
   "metadata": {},
   "source": [
    "### Group data by VM and Stress level"
   ]
  },
  {
   "cell_type": "code",
   "execution_count": 9,
   "metadata": {},
   "outputs": [],
   "source": [
    "adaptive = df[df.vm == \"adaptive\"]\n",
    "reference = df[df.vm == \"reference\"]\n",
    "\n",
    "adaptive_stress0   = adaptive[adaptive.stress == 0]\n",
    "adaptive_stress25  = adaptive[adaptive.stress == 25]\n",
    "adaptive_stress50  = adaptive[adaptive.stress == 50]\n",
    "adaptive_stress75  = adaptive[adaptive.stress == 75]\n",
    "adaptive_stress100 = adaptive[adaptive.stress == 100]\n",
    "\n",
    "reference_stress0   = reference[reference.stress == 0]\n",
    "reference_stress25  = reference[reference.stress == 25]\n",
    "reference_stress50  = reference[reference.stress == 50]\n",
    "reference_stress75  = reference[reference.stress == 75]\n",
    "reference_stress100 = reference[reference.stress == 100]"
   ]
  },
  {
   "cell_type": "markdown",
   "metadata": {},
   "source": [
    "### Get p-values"
   ]
  },
  {
   "cell_type": "code",
   "execution_count": 10,
   "metadata": {},
   "outputs": [],
   "source": [
    "t_stress0,   p_stress0   = st.ttest_ind(a=reference_stress0.time.tolist(),  b=adaptive_stress0.time.tolist(),  equal_var=False)\n",
    "t_stress25,  p_stress25  = st.ttest_ind(a=reference_stress25.time.tolist(), b=adaptive_stress25.time.tolist(), equal_var=False)\n",
    "t_stress50,  p_stress50  = st.ttest_ind(a=reference_stress50.time.tolist(), b=adaptive_stress50.time.tolist(), equal_var=False)\n",
    "t_stress75,  p_stress75  = st.ttest_ind(a=reference_stress75.time.tolist(), b=adaptive_stress75.time.tolist(), equal_var=False)\n",
    "t_stress100, p_stress100 = st.ttest_ind(a=reference_stress100.time.tolist(),b=adaptive_stress100.time.tolist(),equal_var=False)\n",
    "pvalues = [p_stress0, p_stress25, p_stress50, p_stress75, p_stress100]"
   ]
  },
  {
   "cell_type": "markdown",
   "metadata": {},
   "source": [
    "### Compute Effect Size (Cohen's d)"
   ]
  },
  {
   "cell_type": "code",
   "execution_count": 11,
   "metadata": {
    "colab": {
     "base_uri": "https://localhost:8080/",
     "height": 363
    },
    "colab_type": "code",
    "id": "idmFugn4aGnB",
    "outputId": "3e880b04-af57-4ee5-f936-18ed2c74921c"
   },
   "outputs": [],
   "source": [
    "effectSize = stats.copy()\n",
    "effectSize[\"P Values\"] = 0\n",
    "effectSize[\"Effect Size\"] = 0\n",
    "effectSize[\"Absolute Effect Size\"] = 0\n",
    "for i in range(10):\n",
    "  if effectSize.loc[i,\"vm\"] == \"adaptive\":\n",
    "    SDpooled = math.sqrt((89*effectSize.loc[i+1,\"Variance\"]+89*effectSize.loc[i,\"Variance\"])/178)\n",
    "    \n",
    "    meanDiff = effectSize.loc[i+1,\"Mean\"]-effectSize.loc[i,\"Mean\"]\n",
    "    effectSize.loc[i,\"Effect Size\"] = meanDiff / SDpooled\n",
    "    effectSize.loc[i+1,\"Effect Size\"] = 0\n",
    "    effectSize.loc[i,\"Absolute Effect Size\"] = abs(meanDiff / SDpooled)\n",
    "    effectSize.loc[i+1,\"Absolute Effect Size\"] = 0\n",
    "\n",
    "del effectSize[\"Mean\"]\n",
    "del effectSize[\"Median\"]\n",
    "del effectSize[\"Variance\"]\n",
    "del effectSize[\"Deviation\"]\n",
    "effectSize = effectSize.groupby([\"Stress\"]).sum()\n",
    "effectSize[\"P Values\"] = pvalues\n",
    "effectSize[\"Stress\"] = \"\"\n",
    "effectSize.Stress = effectSize.index.get_level_values(0)\n",
    "effectSize.index = range(5)"
   ]
  },
  {
   "cell_type": "markdown",
   "metadata": {},
   "source": [
    "### Summary of the metrics"
   ]
  },
  {
   "cell_type": "code",
   "execution_count": 12,
   "metadata": {},
   "outputs": [
    {
     "name": "stdout",
     "output_type": "stream",
     "text": [
      "Stats for adaptive VM with stress level at 0%\n",
      "Estimated mean : 25.57480081015556\n",
      "Confidence interval : [25.540537433595826, 25.60906418671529] delta = 0.034263376559731995\n",
      "\n",
      "Stats for adaptive VM with stress level at 25%\n",
      "Estimated mean : 16.297958178133335\n",
      "Confidence interval : [16.28939578405871, 16.306520572207962] delta = 0.008562394074626667\n",
      "\n",
      "Stats for adaptive VM with stress level at 50%\n",
      "Estimated mean : 10.883349342033332\n",
      "Confidence interval : [10.875993569659844, 10.89070511440682] delta = 0.0073557723734882785\n",
      "\n",
      "Stats for adaptive VM with stress level at 75%\n",
      "Estimated mean : 8.454307300866665\n",
      "Confidence interval : [8.382331807749136, 8.526282793984194] delta = 0.07197549311752915\n",
      "\n",
      "Stats for adaptive VM with stress level at 100%\n",
      "Estimated mean : 8.758603195688888\n",
      "Confidence interval : [8.691968679732373, 8.825237711645403] delta = 0.06663451595651537\n",
      "\n",
      "\n",
      "\n",
      "Stats for reference VM with stress level at 0%\n",
      "Estimated mean : 12.605883964122222\n",
      "Confidence interval : [12.59315511208231, 12.618612816162134] delta = 0.012728852039911587\n",
      "\n",
      "Stats for reference VM with stress level at 25%\n",
      "Estimated mean : 12.598612847099998\n",
      "Confidence interval : [12.591622980866909, 12.605602713333088] delta = 0.006989866233089614\n",
      "\n",
      "Stats for reference VM with stress level at 50%\n",
      "Estimated mean : 12.667501712433333\n",
      "Confidence interval : [12.6606022526539, 12.674401172212766] delta = 0.006899459779432959\n",
      "\n",
      "Stats for reference VM with stress level at 75%\n",
      "Estimated mean : 12.67400237858889\n",
      "Confidence interval : [12.662745132295244, 12.685259624882535] delta = 0.01125724629364555\n",
      "\n",
      "Stats for reference VM with stress level at 100%\n",
      "Estimated mean : 13.222143579022223\n",
      "Confidence interval : [13.178102749755944, 13.266184408288503] delta = 0.0440408292662795\n"
     ]
    },
    {
     "data": {
      "text/html": [
       "<div>\n",
       "<style scoped>\n",
       "    .dataframe tbody tr th:only-of-type {\n",
       "        vertical-align: middle;\n",
       "    }\n",
       "\n",
       "    .dataframe tbody tr th {\n",
       "        vertical-align: top;\n",
       "    }\n",
       "\n",
       "    .dataframe thead th {\n",
       "        text-align: right;\n",
       "    }\n",
       "</style>\n",
       "<table border=\"1\" class=\"dataframe\">\n",
       "  <thead>\n",
       "    <tr style=\"text-align: right;\">\n",
       "      <th></th>\n",
       "      <th>P Values</th>\n",
       "      <th>Effect Size</th>\n",
       "      <th>Absolute Effect Size</th>\n",
       "      <th>Stress</th>\n",
       "    </tr>\n",
       "  </thead>\n",
       "  <tbody>\n",
       "    <tr>\n",
       "      <th>0</th>\n",
       "      <td>7.080518e-208</td>\n",
       "      <td>-105.096197</td>\n",
       "      <td>105.096197</td>\n",
       "      <td>0</td>\n",
       "    </tr>\n",
       "    <tr>\n",
       "      <th>1</th>\n",
       "      <td>5.968148e-294</td>\n",
       "      <td>-99.134433</td>\n",
       "      <td>99.134433</td>\n",
       "      <td>25</td>\n",
       "    </tr>\n",
       "    <tr>\n",
       "      <th>2</th>\n",
       "      <td>5.065232e-254</td>\n",
       "      <td>52.400715</td>\n",
       "      <td>52.400715</td>\n",
       "      <td>50</td>\n",
       "    </tr>\n",
       "    <tr>\n",
       "      <th>3</th>\n",
       "      <td>2.139275e-102</td>\n",
       "      <td>17.156765</td>\n",
       "      <td>17.156765</td>\n",
       "      <td>75</td>\n",
       "    </tr>\n",
       "    <tr>\n",
       "      <th>4</th>\n",
       "      <td>4.095489e-149</td>\n",
       "      <td>16.552534</td>\n",
       "      <td>16.552534</td>\n",
       "      <td>100</td>\n",
       "    </tr>\n",
       "  </tbody>\n",
       "</table>\n",
       "</div>"
      ],
      "text/plain": [
       "        P Values  Effect Size  Absolute Effect Size  Stress\n",
       "0  7.080518e-208  -105.096197            105.096197       0\n",
       "1  5.968148e-294   -99.134433             99.134433      25\n",
       "2  5.065232e-254    52.400715             52.400715      50\n",
       "3  2.139275e-102    17.156765             17.156765      75\n",
       "4  4.095489e-149    16.552534             16.552534     100"
      ]
     },
     "execution_count": 12,
     "metadata": {},
     "output_type": "execute_result"
    }
   ],
   "source": [
    "print(\"Stats for adaptive VM with stress level at 0%\")  \n",
    "compute_stats(adaptive_stress0.time.tolist())\n",
    "\n",
    "print(\"\\nStats for adaptive VM with stress level at 25%\")  \n",
    "compute_stats(adaptive_stress25.time.tolist())\n",
    "\n",
    "print(\"\\nStats for adaptive VM with stress level at 50%\")  \n",
    "compute_stats(adaptive_stress50.time.tolist())\n",
    "\n",
    "print(\"\\nStats for adaptive VM with stress level at 75%\")  \n",
    "compute_stats(adaptive_stress75.time.tolist())\n",
    "\n",
    "print(\"\\nStats for adaptive VM with stress level at 100%\")  \n",
    "compute_stats(adaptive_stress100.time.tolist())\n",
    "\n",
    "print(\"\\n\\n\\nStats for reference VM with stress level at 0%\")  \n",
    "compute_stats(reference_stress0.time.tolist())\n",
    "\n",
    "print(\"\\nStats for reference VM with stress level at 25%\")  \n",
    "compute_stats(reference_stress25.time.tolist())\n",
    "\n",
    "print(\"\\nStats for reference VM with stress level at 50%\")  \n",
    "compute_stats(reference_stress50.time.tolist())\n",
    "\n",
    "print(\"\\nStats for reference VM with stress level at 75%\")  \n",
    "compute_stats(reference_stress75.time.tolist())\n",
    "\n",
    "print(\"\\nStats for reference VM with stress level at 100%\")  \n",
    "compute_stats(reference_stress100.time.tolist())\n",
    "\n",
    "effectSize"
   ]
  },
  {
   "cell_type": "markdown",
   "metadata": {},
   "source": [
    "## Plots\n",
    "\n",
    "### Effect size depending on the stress\n",
    "\n",
    "Here we try to evaluate the impact of the stress put on the system on the reliability of our benchmarks"
   ]
  },
  {
   "cell_type": "code",
   "execution_count": 13,
   "metadata": {
    "colab": {
     "base_uri": "https://localhost:8080/",
     "height": 406
    },
    "colab_type": "code",
    "id": "7e0mRFFETZP3",
    "outputId": "e4090f1f-3713-4654-b7c5-ce89b5bf9d57"
   },
   "outputs": [
    {
     "data": {
      "image/png": "[encoded data removed]",
      "text/plain": [
       "<Figure size 360x360 with 1 Axes>"
      ]
     },
     "metadata": {
      "needs_background": "light"
     },
     "output_type": "display_data"
    }
   ],
   "source": [
    "sns.catplot(x=\"Stress\", y=\"Absolute Effect Size\", kind=\"bar\", data=effectSize, legend_out=True);"
   ]
  },
  {
   "cell_type": "markdown",
   "metadata": {},
   "source": [
    "As we can see, the effect size decrease when the stress rise. However, the fact that there is no big difference between 75% and 100% can alarm us on the fact that our approwimate loop unrolling adaptive module can be the root cause of the effect size decrease. Yet our data can not show the difference between both due to the strong correlation of those variables in our experiment.\n",
    "\n",
    "### Summary of the benchmarks"
   ]
  },
  {
   "cell_type": "code",
   "execution_count": 14,
   "metadata": {
    "colab": {
     "base_uri": "https://localhost:8080/",
     "height": 1000
    },
    "colab_type": "code",
    "id": "1iziyXcv-vQI",
    "outputId": "01641dc1-93d9-4532-a465-4e789dff69aa"
   },
   "outputs": [
    {
     "data": {
      "image/png": "[encoded data removed]",
      "text/plain": [
       "<Figure size 432x288 with 1 Axes>"
      ]
     },
     "metadata": {
      "needs_background": "light"
     },
     "output_type": "display_data"
    }
   ],
   "source": [
    "sns.lineplot(data=df, x=\"idx\", y=\"time\", hue=\"vm\", style=\"stress\");"
   ]
  },
  {
   "cell_type": "code",
   "execution_count": 15,
   "metadata": {
    "colab": {},
    "colab_type": "code",
    "id": "8RdXXois-vQO"
   },
   "outputs": [
    {
     "data": {
      "image/png": "[encoded data removed]",
      "text/plain": [
       "<Figure size 1080x216 with 5 Axes>"
      ]
     },
     "metadata": {
      "needs_background": "light"
     },
     "output_type": "display_data"
    }
   ],
   "source": [
    "grid = sns.FacetGrid(df, col=\"stress\", hue=\"vm\", sharey=True)\n",
    "grid.map(sns.lineplot, \"idx\", \"time\");"
   ]
  },
  {
   "cell_type": "code",
   "execution_count": 16,
   "metadata": {
    "colab": {
     "base_uri": "https://localhost:8080/",
     "height": 406
    },
    "colab_type": "code",
    "id": "lwvkboAUUcs8",
    "outputId": "5303b88c-e0ed-4441-fb5a-d800d183ff04"
   },
   "outputs": [
    {
     "data": {
      "image/png": "[encoded data removed]",
      "text/plain": [
       "<Figure size 443.75x360 with 1 Axes>"
      ]
     },
     "metadata": {
      "needs_background": "light"
     },
     "output_type": "display_data"
    }
   ],
   "source": [
    "sns.catplot(x=\"Stress\", y=\"Mean\", hue=\"vm\", kind=\"bar\", data=means, sharex=False, legend_out=True);"
   ]
  },
  {
   "cell_type": "markdown",
   "metadata": {},
   "source": [
    "## Discussion\n",
    "\n",
    "As the different plot shows, our approach has an important overhead when no adaptations can be done. We assume that it is due to the internal decision model that is called at every MAPE-K loop iteration, hence, when no module can provide optimizations for this concern, the system suffer of performance issues. However, the plots also shows that when the adaptations kick-in, the adaptive version can perform better than the original implementation (which is designed using an interpreter design pattern which is the best in terms of performances). This highlight the challenge behind Self-Adaptable Virtual Machines which is the implementation of an efficient generic feedback loop."
   ]
  }
 ],
 "metadata": {
  "colab": {
   "collapsed_sections": [],
   "name": "krun_results.ipynb",
   "provenance": [],
   "version": "0.3.2"
  },
  "kernelspec": {
   "display_name": "Python 3",
   "language": "python",
   "name": "python3"
  },
  "language_info": {
   "codemirror_mode": {
    "name": "ipython",
    "version": 3
   },
   "file_extension": ".py",
   "mimetype": "text/x-python",
   "name": "python",
   "nbconvert_exporter": "python",
   "pygments_lexer": "ipython3",
   "version": "3.9.6"
  }
 },
 "nbformat": 4,
 "nbformat_minor": 1
}
