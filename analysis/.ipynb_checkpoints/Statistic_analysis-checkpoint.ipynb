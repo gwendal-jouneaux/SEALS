{
 "cells": [
  {
   "cell_type": "markdown",
   "metadata": {},
   "source": [
    "# SEALS: A framework for building Self-Adaptive Virtual Machines\n",
    "\n",
    "This notebook aim at providing the analysis process of the performances of Self-Adaptable Virtual Machines built with SEALS compared to an handwritten version of the same Self-Adaptable Virtual Machines.\n",
    "\n",
    "## Imports"
   ]
  },
  {
   "cell_type": "code",
   "execution_count": 2,
   "metadata": {
    "colab": {},
    "colab_type": "code",
    "id": "nwy_vm8H-vPy"
   },
   "outputs": [],
   "source": [
    "from os import listdir\n",
    "from os.path import isfile, join\n",
    "import math\n",
    "import pandas as pd\n",
    "import json\n",
    "import numpy as np\n",
    "import seaborn as sns\n",
    "import matplotlib.pyplot as plt\n",
    "import scipy.stats as st"
   ]
  },
  {
   "cell_type": "markdown",
   "metadata": {},
   "source": [
    "## Data\n",
    "\n",
    "Build the datastructure containing the results of the benchmarks. All the benchmarks were executed on a computer with 31Gb of RAM and an Intel(R) Core(TM) i7-10850H CPU (12 cores at 2.70GHz) with Manjaro 21.1.0. \n",
    "The SAVMs are run alone on the computer, and using GraalVM CE version 20.3.2 as JVM due to its necessity for the handcrafted HTML pretty-printer.\n",
    "For each SAVM, we measure 30 program runs in a row repeated three times with reboot between each repetitions."
   ]
  },
  {
   "cell_type": "code",
   "execution_count": 3,
   "metadata": {
    "colab": {
     "base_uri": "https://localhost:8080/",
     "height": 394
    },
    "colab_type": "code",
    "id": "r2tJpDD7-vP_",
    "outputId": "2e1f3d9a-53fb-4f2c-c20a-07d2a7fea350"
   },
   "outputs": [
    {
     "data": {
      "text/html": [
       "<div>\n",
       "<style scoped>\n",
       "    .dataframe tbody tr th:only-of-type {\n",
       "        vertical-align: middle;\n",
       "    }\n",
       "\n",
       "    .dataframe tbody tr th {\n",
       "        vertical-align: top;\n",
       "    }\n",
       "\n",
       "    .dataframe thead th {\n",
       "        text-align: right;\n",
       "    }\n",
       "</style>\n",
       "<table border=\"1\" class=\"dataframe\">\n",
       "  <thead>\n",
       "    <tr style=\"text-align: right;\">\n",
       "      <th></th>\n",
       "      <th>lang</th>\n",
       "      <th>type</th>\n",
       "      <th>time</th>\n",
       "      <th>idx</th>\n",
       "    </tr>\n",
       "  </thead>\n",
       "  <tbody>\n",
       "    <tr>\n",
       "      <th>count</th>\n",
       "      <td>540</td>\n",
       "      <td>540</td>\n",
       "      <td>540.000000</td>\n",
       "      <td>540.000000</td>\n",
       "    </tr>\n",
       "    <tr>\n",
       "      <th>unique</th>\n",
       "      <td>3</td>\n",
       "      <td>2</td>\n",
       "      <td>NaN</td>\n",
       "      <td>NaN</td>\n",
       "    </tr>\n",
       "    <tr>\n",
       "      <th>top</th>\n",
       "      <td>MiniJava</td>\n",
       "      <td>Handcraft</td>\n",
       "      <td>NaN</td>\n",
       "      <td>NaN</td>\n",
       "    </tr>\n",
       "    <tr>\n",
       "      <th>freq</th>\n",
       "      <td>180</td>\n",
       "      <td>270</td>\n",
       "      <td>NaN</td>\n",
       "      <td>NaN</td>\n",
       "    </tr>\n",
       "    <tr>\n",
       "      <th>mean</th>\n",
       "      <td>NaN</td>\n",
       "      <td>NaN</td>\n",
       "      <td>6.785424</td>\n",
       "      <td>44.500000</td>\n",
       "    </tr>\n",
       "    <tr>\n",
       "      <th>std</th>\n",
       "      <td>NaN</td>\n",
       "      <td>NaN</td>\n",
       "      <td>8.431195</td>\n",
       "      <td>26.003247</td>\n",
       "    </tr>\n",
       "    <tr>\n",
       "      <th>min</th>\n",
       "      <td>NaN</td>\n",
       "      <td>NaN</td>\n",
       "      <td>0.659000</td>\n",
       "      <td>0.000000</td>\n",
       "    </tr>\n",
       "    <tr>\n",
       "      <th>25%</th>\n",
       "      <td>NaN</td>\n",
       "      <td>NaN</td>\n",
       "      <td>0.930000</td>\n",
       "      <td>22.000000</td>\n",
       "    </tr>\n",
       "    <tr>\n",
       "      <th>50%</th>\n",
       "      <td>NaN</td>\n",
       "      <td>NaN</td>\n",
       "      <td>1.069500</td>\n",
       "      <td>44.500000</td>\n",
       "    </tr>\n",
       "    <tr>\n",
       "      <th>75%</th>\n",
       "      <td>NaN</td>\n",
       "      <td>NaN</td>\n",
       "      <td>15.298250</td>\n",
       "      <td>67.000000</td>\n",
       "    </tr>\n",
       "    <tr>\n",
       "      <th>max</th>\n",
       "      <td>NaN</td>\n",
       "      <td>NaN</td>\n",
       "      <td>23.398000</td>\n",
       "      <td>89.000000</td>\n",
       "    </tr>\n",
       "  </tbody>\n",
       "</table>\n",
       "</div>"
      ],
      "text/plain": [
       "            lang       type        time         idx\n",
       "count        540        540  540.000000  540.000000\n",
       "unique         3          2         NaN         NaN\n",
       "top     MiniJava  Handcraft         NaN         NaN\n",
       "freq         180        270         NaN         NaN\n",
       "mean         NaN        NaN    6.785424   44.500000\n",
       "std          NaN        NaN    8.431195   26.003247\n",
       "min          NaN        NaN    0.659000    0.000000\n",
       "25%          NaN        NaN    0.930000   22.000000\n",
       "50%          NaN        NaN    1.069500   44.500000\n",
       "75%          NaN        NaN   15.298250   67.000000\n",
       "max          NaN        NaN   23.398000   89.000000"
      ]
     },
     "execution_count": 3,
     "metadata": {},
     "output_type": "execute_result"
    }
   ],
   "source": [
    "root_dir = './data/'\n",
    "\n",
    "results=[]\n",
    "for f in listdir(root_dir):\n",
    "    path = join(root_dir, f)\n",
    "    if isfile(path):\n",
    "        fo = open(path)\n",
    "        times = content = fo.readlines()\n",
    "        splt = f.split('_')\n",
    "        lang = splt[0]\n",
    "        typ = splt[1]\n",
    "        measureNb = splt[2][:-4]\n",
    "        for (idx, time) in enumerate(times):\n",
    "                results.append({\n",
    "                        'lang': lang,\n",
    "                        'type': typ,\n",
    "                        'time': float(time),\n",
    "                        'idx': idx * 3 + len(measureNb) - 1\n",
    "                })\n",
    "\n",
    "df = pd.DataFrame(results)\n",
    "df.describe(include='all')"
   ]
  },
  {
   "cell_type": "markdown",
   "metadata": {},
   "source": [
    "## Statistic analysis\n",
    "\n",
    "### Basic metrics\n",
    "\n",
    "#### Variance"
   ]
  },
  {
   "cell_type": "code",
   "execution_count": 4,
   "metadata": {
    "colab": {},
    "colab_type": "code",
    "id": "5Mqsy2g_PPxb"
   },
   "outputs": [],
   "source": [
    "variances = pd.DataFrame(df.groupby([\"lang\", \"type\"]).time.var())\n",
    "variances[\"lang\"] = \"\"\n",
    "variances[\"type\"] = \"\"\n",
    "variances.lang = variances.index.get_level_values(0)\n",
    "variances.type = variances.index.get_level_values(1)\n",
    "variances.index = range(6)\n",
    "variances.rename(columns={\"time\":\"Variances\"}, inplace=True)"
   ]
  },
  {
   "cell_type": "markdown",
   "metadata": {},
   "source": [
    "#### Standard deviation"
   ]
  },
  {
   "cell_type": "code",
   "execution_count": 5,
   "metadata": {
    "colab": {},
    "colab_type": "code",
    "id": "EfRviD6sUI-k"
   },
   "outputs": [],
   "source": [
    "deviations = pd.DataFrame(df.groupby([\"lang\", \"type\"]).time.std())\n",
    "deviations[\"lang\"] = \"\"\n",
    "deviations[\"type\"] = \"\"\n",
    "deviations.lang = deviations.index.get_level_values(0)\n",
    "deviations.type = deviations.index.get_level_values(1)\n",
    "deviations.index = range(6)\n",
    "deviations.rename(columns={\"time\":\"Deviation\"}, inplace=True)"
   ]
  },
  {
   "cell_type": "markdown",
   "metadata": {},
   "source": [
    "#### Average time"
   ]
  },
  {
   "cell_type": "code",
   "execution_count": 6,
   "metadata": {
    "colab": {},
    "colab_type": "code",
    "id": "eC3JsOS426Xp"
   },
   "outputs": [],
   "source": [
    "means = pd.DataFrame(df.groupby([\"lang\", \"type\"]).time.mean())\n",
    "means[\"lang\"] = \"\"\n",
    "means[\"type\"] = \"\"\n",
    "means.lang = means.index.get_level_values(0)\n",
    "means.type = means.index.get_level_values(1)\n",
    "means.index = range(6)\n",
    "means.rename(columns={\"time\":\"Mean\"}, inplace=True)"
   ]
  },
  {
   "cell_type": "markdown",
   "metadata": {},
   "source": [
    "#### Median value"
   ]
  },
  {
   "cell_type": "code",
   "execution_count": 7,
   "metadata": {
    "colab": {},
    "colab_type": "code",
    "id": "q4UioLiH26cG"
   },
   "outputs": [],
   "source": [
    "medians = pd.DataFrame(df.groupby([\"lang\", \"type\"]).time.median())\n",
    "medians[\"lang\"] = \"\"\n",
    "medians[\"type\"] = \"\"\n",
    "medians.lang = medians.index.get_level_values(0)\n",
    "medians.type = medians.index.get_level_values(1)\n",
    "medians.index = range(6)\n",
    "medians.rename(columns={\"time\":\"Median\"}, inplace=True)"
   ]
  },
  {
   "cell_type": "markdown",
   "metadata": {},
   "source": [
    "#### Concatenate all metrics"
   ]
  },
  {
   "cell_type": "code",
   "execution_count": 8,
   "metadata": {
    "colab": {
     "base_uri": "https://localhost:8080/",
     "height": 1000
    },
    "colab_type": "code",
    "id": "VoZepTwc5zak",
    "outputId": "aca17f81-faaf-476e-f026-b0c642040af1"
   },
   "outputs": [
    {
     "data": {
      "text/html": [
       "<div>\n",
       "<style scoped>\n",
       "    .dataframe tbody tr th:only-of-type {\n",
       "        vertical-align: middle;\n",
       "    }\n",
       "\n",
       "    .dataframe tbody tr th {\n",
       "        vertical-align: top;\n",
       "    }\n",
       "\n",
       "    .dataframe thead th {\n",
       "        text-align: right;\n",
       "    }\n",
       "</style>\n",
       "<table border=\"1\" class=\"dataframe\">\n",
       "  <thead>\n",
       "    <tr style=\"text-align: right;\">\n",
       "      <th></th>\n",
       "      <th>lang</th>\n",
       "      <th>type</th>\n",
       "      <th>Mean</th>\n",
       "      <th>Median</th>\n",
       "      <th>Deviation</th>\n",
       "      <th>Variance</th>\n",
       "    </tr>\n",
       "  </thead>\n",
       "  <tbody>\n",
       "    <tr>\n",
       "      <th>0</th>\n",
       "      <td>HTML</td>\n",
       "      <td>Framework</td>\n",
       "      <td>0.685267</td>\n",
       "      <td>0.6730</td>\n",
       "      <td>0.029439</td>\n",
       "      <td>0.000867</td>\n",
       "    </tr>\n",
       "    <tr>\n",
       "      <th>1</th>\n",
       "      <td>MiniJava</td>\n",
       "      <td>Framework</td>\n",
       "      <td>19.829233</td>\n",
       "      <td>18.0360</td>\n",
       "      <td>2.479150</td>\n",
       "      <td>6.146186</td>\n",
       "    </tr>\n",
       "    <tr>\n",
       "      <th>2</th>\n",
       "      <td>RobLANG</td>\n",
       "      <td>Framework</td>\n",
       "      <td>1.043844</td>\n",
       "      <td>1.0380</td>\n",
       "      <td>0.035087</td>\n",
       "      <td>0.001231</td>\n",
       "    </tr>\n",
       "    <tr>\n",
       "      <th>3</th>\n",
       "      <td>HTML</td>\n",
       "      <td>Handcraft</td>\n",
       "      <td>0.944022</td>\n",
       "      <td>0.9300</td>\n",
       "      <td>0.046143</td>\n",
       "      <td>0.002129</td>\n",
       "    </tr>\n",
       "    <tr>\n",
       "      <th>4</th>\n",
       "      <td>MiniJava</td>\n",
       "      <td>Handcraft</td>\n",
       "      <td>17.115256</td>\n",
       "      <td>15.3125</td>\n",
       "      <td>2.485714</td>\n",
       "      <td>6.178774</td>\n",
       "    </tr>\n",
       "    <tr>\n",
       "      <th>5</th>\n",
       "      <td>RobLANG</td>\n",
       "      <td>Handcraft</td>\n",
       "      <td>1.094922</td>\n",
       "      <td>1.0935</td>\n",
       "      <td>0.021523</td>\n",
       "      <td>0.000463</td>\n",
       "    </tr>\n",
       "  </tbody>\n",
       "</table>\n",
       "</div>"
      ],
      "text/plain": [
       "       lang       type       Mean   Median  Deviation  Variance\n",
       "0      HTML  Framework   0.685267   0.6730   0.029439  0.000867\n",
       "1  MiniJava  Framework  19.829233  18.0360   2.479150  6.146186\n",
       "2   RobLANG  Framework   1.043844   1.0380   0.035087  0.001231\n",
       "3      HTML  Handcraft   0.944022   0.9300   0.046143  0.002129\n",
       "4  MiniJava  Handcraft  17.115256  15.3125   2.485714  6.178774\n",
       "5   RobLANG  Handcraft   1.094922   1.0935   0.021523  0.000463"
      ]
     },
     "execution_count": 8,
     "metadata": {},
     "output_type": "execute_result"
    }
   ],
   "source": [
    "stats = pd.concat([variances, means, medians, deviations], axis=1)\n",
    "stats[\"Variance\"] = 0\n",
    "stats.Variance = stats.Variances\n",
    "del stats[\"Variances\"]\n",
    "stats = stats.loc[:,~stats.columns.duplicated()]\n",
    "stats = stats.sort_values(['type', 'lang'])\n",
    "stats.index = range(6)\n",
    "stats"
   ]
  },
  {
   "cell_type": "markdown",
   "metadata": {},
   "source": [
    "### Functions\n",
    "\n",
    "compute_stats : print estimation of the mean and confidence interval of the data"
   ]
  },
  {
   "cell_type": "code",
   "execution_count": 9,
   "metadata": {
    "colab": {
     "base_uri": "https://localhost:8080/",
     "height": 677
    },
    "colab_type": "code",
    "id": "TWsi7ugDZLWc",
    "outputId": "a2e45651-84f9-442f-aea4-da306d770895"
   },
   "outputs": [],
   "source": [
    "def compute_stats(values):\n",
    "    mean = np.mean(values)\n",
    "    lo, hi = st.t.interval(0.95, df=(len(values) - 1), loc=mean, scale=st.sem(values))\n",
    "    print(\"Estimated mean : \" + str(mean))\n",
    "    print(\"Confidence interval : [\" + str(lo) + \", \" + str(hi) + \"] delta = \" + str(mean - lo))\n",
    "\n"
   ]
  },
  {
   "cell_type": "markdown",
   "metadata": {},
   "source": [
    "### Group data by Language and Type"
   ]
  },
  {
   "cell_type": "code",
   "execution_count": 10,
   "metadata": {},
   "outputs": [],
   "source": [
    "Framework = df[df.type == \"Framework\"]\n",
    "Handcraft = df[df.type == \"Handcraft\"]\n",
    "\n",
    "frameworkHTML   = Framework[Framework.lang == \"HTML\"]\n",
    "frameworkRobLANG  = Framework[Framework.lang == \"RobLANG\"]\n",
    "frameworkMiniJava  = Framework[Framework.lang == \"MiniJava\"]\n",
    "\n",
    "handcraftHTML   = Handcraft[Handcraft.lang == \"HTML\"]\n",
    "handcraftRobLANG  = Handcraft[Handcraft.lang == \"RobLANG\"]\n",
    "handcraftMiniJava  = Handcraft[Handcraft.lang == \"MiniJava\"]"
   ]
  },
  {
   "cell_type": "markdown",
   "metadata": {},
   "source": [
    "### Get p-values"
   ]
  },
  {
   "cell_type": "code",
   "execution_count": 11,
   "metadata": {},
   "outputs": [],
   "source": [
    "t_HTML,   p_HTML   = st.ttest_ind(a=handcraftHTML.time.tolist(),  b=frameworkHTML.time.tolist(),  equal_var=False)\n",
    "t_RobLANG,  p_RobLANG  = st.ttest_ind(a=handcraftRobLANG.time.tolist(), b=frameworkRobLANG.time.tolist(), equal_var=False)\n",
    "t_MiniJava,  p_MiniJava  = st.ttest_ind(a=handcraftMiniJava.time.tolist(), b=frameworkMiniJava.time.tolist(), equal_var=False)\n",
    "pvalues = [p_HTML, p_RobLANG, p_MiniJava]"
   ]
  },
  {
   "cell_type": "markdown",
   "metadata": {},
   "source": [
    "### Compute Effect Size (Cohen's d)"
   ]
  },
  {
   "cell_type": "code",
   "execution_count": 12,
   "metadata": {
    "colab": {
     "base_uri": "https://localhost:8080/",
     "height": 363
    },
    "colab_type": "code",
    "id": "idmFugn4aGnB",
    "outputId": "3e880b04-af57-4ee5-f936-18ed2c74921c"
   },
   "outputs": [],
   "source": [
    "effectSize = stats.copy()\n",
    "effectSize[\"P Values\"] = 0\n",
    "effectSize[\"Effect Size\"] = 0\n",
    "effectSize[\"Absolute Effect Size\"] = 0\n",
    "effectSize[\"Mean diff\"] = 0\n",
    "effectSize[\"Slowdown\"] = 0\n",
    "\n",
    "slowdownGeoMean = 1\n",
    "\n",
    "for i in range(6):\n",
    "  if effectSize.loc[i,\"type\"] == \"Framework\":\n",
    "    SDpooled = math.sqrt((89*effectSize.loc[i+3,\"Variance\"]+89*effectSize.loc[i,\"Variance\"])/178)\n",
    "    \n",
    "    meanDiff = effectSize.loc[i+3,\"Mean\"]-effectSize.loc[i,\"Mean\"]\n",
    "    slowdown = effectSize.loc[i,\"Mean\"] / effectSize.loc[i+3,\"Mean\"]\n",
    "    effectSize.loc[i,\"Effect Size\"] = meanDiff / SDpooled\n",
    "    effectSize.loc[i+3,\"Effect Size\"] = 0\n",
    "    effectSize.loc[i,\"Absolute Effect Size\"] = abs(meanDiff / SDpooled)\n",
    "    effectSize.loc[i+3,\"Absolute Effect Size\"] = 0\n",
    "    effectSize.loc[i,\"Mean diff\"] = meanDiff\n",
    "    effectSize.loc[i+3,\"Mean diff\"] = 0\n",
    "    effectSize.loc[i,\"Slowdown\"] = slowdown\n",
    "    effectSize.loc[i+3,\"Slowdown\"] = 0\n",
    "    slowdownGeoMean = slowdownGeoMean * slowdown\n",
    "\n",
    "del effectSize[\"Mean\"]\n",
    "del effectSize[\"Median\"]\n",
    "del effectSize[\"Variance\"]\n",
    "del effectSize[\"Deviation\"]\n",
    "effectSize = effectSize.groupby([\"lang\"]).sum()\n",
    "effectSize[\"P Values\"] = pvalues\n",
    "effectSize[\"lang\"] = \"\"\n",
    "effectSize.lang = effectSize.index.get_level_values(0)\n",
    "effectSize.index = range(3)\n",
    "\n",
    "slowdownGeoMean = slowdownGeoMean ** (1. / 3) # cubic root"
   ]
  },
  {
   "cell_type": "markdown",
   "metadata": {},
   "source": [
    "### Summary of the metrics"
   ]
  },
  {
   "cell_type": "code",
   "execution_count": 13,
   "metadata": {},
   "outputs": [
    {
     "name": "stdout",
     "output_type": "stream",
     "text": [
      "Stats for HTML build using the framework\n",
      "Estimated mean : 0.6852666666666667\n",
      "Confidence interval : [0.6791008142759833, 0.69143251905735] delta = 0.006165852390683346\n",
      "\n",
      "Stats for RobLANG build using the framework\n",
      "Estimated mean : 1.0438444444444444\n",
      "Confidence interval : [1.036495609922187, 1.0511932789667018] delta = 0.00734883452225743\n",
      "\n",
      "Stats for MiniJava build using the framework\n",
      "Estimated mean : 19.82923333333333\n",
      "Confidence interval : [19.309985364588858, 20.348481302077804] delta = 0.5192479687444731\n",
      "\n",
      "\n",
      "Stats for HTML handcrafted\n",
      "Estimated mean : 0.9440222222222222\n",
      "Confidence interval : [0.93435777706323, 0.9536866673812144] delta = 0.00966444515899223\n",
      "\n",
      "Stats for RobLANG handcrafted\n",
      "Estimated mean : 1.0949222222222224\n",
      "Confidence interval : [1.0904144189717995, 1.0994300254726452] delta = 0.0045078032504228815\n",
      "\n",
      "Stats for MiniJava handcrafted\n",
      "Estimated mean : 17.115255555555557\n",
      "Confidence interval : [16.594632856038277, 17.635878255072836] delta = 0.5206226995172791\n",
      "\n",
      "\n",
      "Mean slowdown (geometrical mean) : 0.9290037764895259\n"
     ]
    },
    {
     "data": {
      "text/html": [
       "<div>\n",
       "<style scoped>\n",
       "    .dataframe tbody tr th:only-of-type {\n",
       "        vertical-align: middle;\n",
       "    }\n",
       "\n",
       "    .dataframe tbody tr th {\n",
       "        vertical-align: top;\n",
       "    }\n",
       "\n",
       "    .dataframe thead th {\n",
       "        text-align: right;\n",
       "    }\n",
       "</style>\n",
       "<table border=\"1\" class=\"dataframe\">\n",
       "  <thead>\n",
       "    <tr style=\"text-align: right;\">\n",
       "      <th></th>\n",
       "      <th>P Values</th>\n",
       "      <th>Effect Size</th>\n",
       "      <th>Absolute Effect Size</th>\n",
       "      <th>Mean diff</th>\n",
       "      <th>Slowdown</th>\n",
       "      <th>lang</th>\n",
       "    </tr>\n",
       "  </thead>\n",
       "  <tbody>\n",
       "    <tr>\n",
       "      <th>0</th>\n",
       "      <td>3.114497e-89</td>\n",
       "      <td>6.685704</td>\n",
       "      <td>6.685704</td>\n",
       "      <td>0.258756</td>\n",
       "      <td>0.725901</td>\n",
       "      <td>HTML</td>\n",
       "    </tr>\n",
       "    <tr>\n",
       "      <th>1</th>\n",
       "      <td>5.579223e-23</td>\n",
       "      <td>-1.093273</td>\n",
       "      <td>1.093273</td>\n",
       "      <td>-2.713978</td>\n",
       "      <td>1.158571</td>\n",
       "      <td>MiniJava</td>\n",
       "    </tr>\n",
       "    <tr>\n",
       "      <th>2</th>\n",
       "      <td>7.591006e-12</td>\n",
       "      <td>1.754889</td>\n",
       "      <td>1.754889</td>\n",
       "      <td>0.051078</td>\n",
       "      <td>0.953350</td>\n",
       "      <td>RobLANG</td>\n",
       "    </tr>\n",
       "  </tbody>\n",
       "</table>\n",
       "</div>"
      ],
      "text/plain": [
       "       P Values  Effect Size  Absolute Effect Size  Mean diff  Slowdown  \\\n",
       "0  3.114497e-89     6.685704              6.685704   0.258756  0.725901   \n",
       "1  5.579223e-23    -1.093273              1.093273  -2.713978  1.158571   \n",
       "2  7.591006e-12     1.754889              1.754889   0.051078  0.953350   \n",
       "\n",
       "       lang  \n",
       "0      HTML  \n",
       "1  MiniJava  \n",
       "2   RobLANG  "
      ]
     },
     "execution_count": 13,
     "metadata": {},
     "output_type": "execute_result"
    }
   ],
   "source": [
    "print(\"Stats for HTML build using the framework\")  \n",
    "compute_stats(frameworkHTML.time.tolist())\n",
    "\n",
    "print(\"\\nStats for RobLANG build using the framework\")  \n",
    "compute_stats(frameworkRobLANG.time.tolist())\n",
    "\n",
    "print(\"\\nStats for MiniJava build using the framework\")  \n",
    "compute_stats(frameworkMiniJava.time.tolist())\n",
    "\n",
    "print(\"\\n\\nStats for HTML handcrafted\")  \n",
    "compute_stats(handcraftHTML.time.tolist())\n",
    "\n",
    "print(\"\\nStats for RobLANG handcrafted\")  \n",
    "compute_stats(handcraftRobLANG.time.tolist())\n",
    "\n",
    "print(\"\\nStats for MiniJava handcrafted\")  \n",
    "compute_stats(handcraftMiniJava.time.tolist())\n",
    "\n",
    "print(\"\\n\\nMean slowdown (geometrical mean) : \" + str(slowdownGeoMean))  \n",
    "\n",
    "effectSize"
   ]
  },
  {
   "cell_type": "markdown",
   "metadata": {},
   "source": [
    "## Plots"
   ]
  },
  {
   "cell_type": "markdown",
   "metadata": {},
   "source": [
    "### Summary of the benchmarks"
   ]
  },
  {
   "cell_type": "code",
   "execution_count": 14,
   "metadata": {
    "colab": {
     "base_uri": "https://localhost:8080/",
     "height": 1000
    },
    "colab_type": "code",
    "id": "1iziyXcv-vQI",
    "outputId": "01641dc1-93d9-4532-a465-4e789dff69aa"
   },
   "outputs": [
    {
     "data": {
      "image/png": "[encoded data removed]",
      "text/plain": [
       "<Figure size 432x288 with 1 Axes>"
      ]
     },
     "metadata": {
      "needs_background": "light"
     },
     "output_type": "display_data"
    }
   ],
   "source": [
    "sns.lineplot(data=df, x=\"idx\", y=\"time\", hue=\"type\", style=\"lang\");"
   ]
  },
  {
   "cell_type": "code",
   "execution_count": 15,
   "metadata": {
    "colab": {},
    "colab_type": "code",
    "id": "8RdXXois-vQO"
   },
   "outputs": [
    {
     "data": {
      "image/png": "[encoded data removed]",
      "text/plain": [
       "<Figure size 648x216 with 3 Axes>"
      ]
     },
     "metadata": {
      "needs_background": "light"
     },
     "output_type": "display_data"
    }
   ],
   "source": [
    "grid = sns.FacetGrid(df, col=\"lang\", hue=\"type\", sharey=False)\n",
    "grid.map(sns.lineplot, \"idx\", \"time\");"
   ]
  },
  {
   "cell_type": "code",
   "execution_count": 16,
   "metadata": {
    "colab": {
     "base_uri": "https://localhost:8080/",
     "height": 406
    },
    "colab_type": "code",
    "id": "lwvkboAUUcs8",
    "outputId": "5303b88c-e0ed-4441-fb5a-d800d183ff04"
   },
   "outputs": [
    {
     "data": {
      "image/png": "[encoded data removed]",
      "text/plain": [
       "<Figure size 451x360 with 1 Axes>"
      ]
     },
     "metadata": {
      "needs_background": "light"
     },
     "output_type": "display_data"
    }
   ],
   "source": [
    "sns.catplot(x=\"lang\", y=\"Mean\", hue=\"type\", kind=\"bar\", data=means, sharex=False, legend_out=True);"
   ]
  }
 ],
 "metadata": {
  "colab": {
   "collapsed_sections": [],
   "name": "krun_results.ipynb",
   "provenance": [],
   "version": "0.3.2"
  },
  "kernelspec": {
   "display_name": "Python 3 (ipykernel)",
   "language": "python",
   "name": "python3"
  },
  "language_info": {
   "codemirror_mode": {
    "name": "ipython",
    "version": 3
   },
   "file_extension": ".py",
   "mimetype": "text/x-python",
   "name": "python",
   "nbconvert_exporter": "python",
   "pygments_lexer": "ipython3",
   "version": "3.9.6"
  }
 },
 "nbformat": 4,
 "nbformat_minor": 1
}
